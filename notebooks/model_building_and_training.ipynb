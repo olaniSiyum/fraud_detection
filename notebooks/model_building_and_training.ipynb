{
 "cells": [
  {
   "cell_type": "code",
   "execution_count": 1,
   "metadata": {},
   "outputs": [],
   "source": [
    "import pandas as pd\n",
    "import seaborn as sns\n",
    "import matplotlib.pyplot as plt\n",
    "import numpy as np\n",
    "import os, sys \n",
    "from sklearn.model_selection import train_test_split\n",
    "from sklearn.metrics import classification_report, accuracy_score, roc_auc_score\n",
    "from sklearn.linear_model import LogisticRegression\n",
    "from sklearn.tree import DecisionTreeClassifier\n",
    "from sklearn.ensemble import RandomForestClassifier, GradientBoostingClassifier\n",
    "from sklearn.neural_network import MLPClassifier\n",
    "import mlflow\n",
    "import mlflow.sklearn"
   ]
  },
  {
   "cell_type": "code",
   "execution_count": 30,
   "metadata": {},
   "outputs": [],
   "source": [
    "fraud_data_df = pd.read_csv('../data/processed/merged_data.csv')\n",
    "creditcard_df = pd.read_csv('../data/processed/creditcard.csv')"
   ]
  },
  {
   "cell_type": "code",
   "execution_count": 31,
   "metadata": {},
   "outputs": [],
   "source": [
    "# Convert to datetime\n",
    "fraud_data_df['signup_time'] = pd.to_datetime(fraud_data_df['signup_time'], format='%Y-%m-%d %H:%M:%S')\n",
    "fraud_data_df['purchase_time'] = pd.to_datetime(fraud_data_df['purchase_time'], format='%Y-%m-%d %H:%M:%S')\n",
    "\n",
    "# Calculate the time difference in seconds\n",
    "fraud_data_df['time_diff_seconds'] = (fraud_data_df['purchase_time'] - fraud_data_df['signup_time']).dt.total_seconds()\n",
    "\n",
    "# Drop the original datetime columns\n",
    "fraud_data_df = fraud_data_df.drop(columns=['signup_time', 'purchase_time'])"
   ]
  },
  {
   "cell_type": "code",
   "execution_count": 3,
   "metadata": {},
   "outputs": [],
   "source": [
    "# Data Preparation for creditcard\n",
    "X_creditcard = creditcard_df.drop('Class', axis=1)\n",
    "y_creditcard = creditcard_df['Class']"
   ]
  },
  {
   "cell_type": "code",
   "execution_count": 37,
   "metadata": {},
   "outputs": [],
   "source": [
    "# Data Preparation for fraud_data\n",
    "X_fraud = fraud_data_df.drop(columns=['class', 'user_id', 'device_id', 'ip_address'])  # Drop non-feature columns\n",
    "y_fraud = fraud_data_df['class']  # Target variable"
   ]
  },
  {
   "cell_type": "code",
   "execution_count": 42,
   "metadata": {},
   "outputs": [],
   "source": [
    "X_fraud_encoded = pd.get_dummies(X_fraud, drop_first=True)"
   ]
  },
  {
   "cell_type": "markdown",
   "metadata": {},
   "source": [
    "### Train-Test Split"
   ]
  },
  {
   "cell_type": "code",
   "execution_count": 5,
   "metadata": {},
   "outputs": [],
   "source": [
    "# Splitting data into training and test sets for creditcard\n",
    "X_train_creditcard, X_test_creditcard, y_train_creditcard, y_test_creditcard = train_test_split(\n",
    "    X_creditcard, y_creditcard, test_size=0.2, random_state=42)\n"
   ]
  },
  {
   "cell_type": "code",
   "execution_count": 43,
   "metadata": {},
   "outputs": [],
   "source": [
    "# Splitting data into training and test sets for fraud_data\n",
    "X_train_fraud, X_test_fraud, y_train_fraud, y_test_fraud = train_test_split(\n",
    "    X_fraud_encoded, y_fraud, test_size=0.2, random_state=42)\n"
   ]
  },
  {
   "cell_type": "markdown",
   "metadata": {},
   "source": [
    "### Model Selection"
   ]
  },
  {
   "cell_type": "code",
   "execution_count": 7,
   "metadata": {},
   "outputs": [
    {
     "data": {
      "text/plain": [
       "<Experiment: artifact_location='file:///home/olani/Documents/kifiya/week8%269/fraud_detection/notebooks/mlruns/530244478229639463', creation_time=1729677870234, experiment_id='530244478229639463', last_update_time=1729677870234, lifecycle_stage='active', name='Fraud Detection Models', tags={}>"
      ]
     },
     "execution_count": 7,
     "metadata": {},
     "output_type": "execute_result"
    }
   ],
   "source": [
    "# MLflow Experiment Setup\n",
    "mlflow.set_experiment(\"Fraud Detection Models\")"
   ]
  },
  {
   "cell_type": "code",
   "execution_count": 8,
   "metadata": {},
   "outputs": [],
   "source": [
    "# Define the function for training, evaluation, and logging\n",
    "def train_evaluate_log_model(model_name, model, X_train, y_train, X_test, y_test):\n",
    "    with mlflow.start_run(run_name=model_name):\n",
    "        # Train model\n",
    "        model.fit(X_train, y_train)\n",
    "        \n",
    "        # Make predictions\n",
    "        y_pred = model.predict(X_test)\n",
    "        y_prob = model.predict_proba(X_test)[:, 1] if hasattr(model, \"predict_proba\") else None\n",
    "        \n",
    "        # Evaluation metrics\n",
    "        accuracy = accuracy_score(y_test, y_pred)\n",
    "        report = classification_report(y_test, y_pred)\n",
    "        auc_roc = roc_auc_score(y_test, y_prob) if y_prob is not None else None\n",
    "        \n",
    "        # Logging parameters and metrics\n",
    "        mlflow.log_param(\"model_type\", model_name)\n",
    "        mlflow.log_metric(\"accuracy\", accuracy)\n",
    "        if auc_roc is not None:\n",
    "            mlflow.log_metric(\"AUC_ROC\", auc_roc)\n",
    "        \n",
    "        # Logging the model\n",
    "        mlflow.sklearn.log_model(model, model_name)\n",
    "        \n",
    "        # Print results\n",
    "        print(f\"Model: {model_name}\")\n",
    "        print(f\"Accuracy: {accuracy}\")\n",
    "        print(report)\n",
    "        print(f\"AUC-ROC: {auc_roc if auc_roc else 'Not applicable'}\")\n"
   ]
  },
  {
   "cell_type": "code",
   "execution_count": 9,
   "metadata": {},
   "outputs": [
    {
     "name": "stderr",
     "output_type": "stream",
     "text": [
      "/home/olani/Documents/kifiya/week8&9/fraud_detection/.venv/lib/python3.12/site-packages/sklearn/linear_model/_logistic.py:469: ConvergenceWarning: lbfgs failed to converge (status=1):\n",
      "STOP: TOTAL NO. of ITERATIONS REACHED LIMIT.\n",
      "\n",
      "Increase the number of iterations (max_iter) or scale the data as shown in:\n",
      "    https://scikit-learn.org/stable/modules/preprocessing.html\n",
      "Please also refer to the documentation for alternative solver options:\n",
      "    https://scikit-learn.org/stable/modules/linear_model.html#logistic-regression\n",
      "  n_iter_i = _check_optimize_result(\n",
      "2024/10/28 16:41:32 WARNING mlflow.models.model: Model logged without a signature and input example. Please set `input_example` parameter when logging the model to auto infer the model signature.\n"
     ]
    },
    {
     "name": "stdout",
     "output_type": "stream",
     "text": [
      "Model: Logistic Regression\n",
      "Accuracy: 0.9992069925633524\n",
      "              precision    recall  f1-score   support\n",
      "\n",
      "           0       1.00      1.00      1.00     56656\n",
      "           1       0.88      0.58      0.70        90\n",
      "\n",
      "    accuracy                           1.00     56746\n",
      "   macro avg       0.94      0.79      0.85     56746\n",
      "weighted avg       1.00      1.00      1.00     56746\n",
      "\n",
      "AUC-ROC: 0.9416754918572907\n"
     ]
    }
   ],
   "source": [
    "# Logistic Regression\n",
    "logistic_regression_model = LogisticRegression(max_iter=1000)\n",
    "train_evaluate_log_model(\"Logistic Regression\", logistic_regression_model, X_train_creditcard, y_train_creditcard, X_test_creditcard, y_test_creditcard)"
   ]
  },
  {
   "cell_type": "code",
   "execution_count": 10,
   "metadata": {},
   "outputs": [
    {
     "name": "stderr",
     "output_type": "stream",
     "text": [
      "2024/10/28 16:47:24 WARNING mlflow.models.model: Model logged without a signature and input example. Please set `input_example` parameter when logging the model to auto infer the model signature.\n"
     ]
    },
    {
     "name": "stdout",
     "output_type": "stream",
     "text": [
      "Model: Decision Tree\n",
      "Accuracy: 0.9990131463010609\n",
      "              precision    recall  f1-score   support\n",
      "\n",
      "           0       1.00      1.00      1.00     56656\n",
      "           1       0.67      0.73      0.70        90\n",
      "\n",
      "    accuracy                           1.00     56746\n",
      "   macro avg       0.84      0.87      0.85     56746\n",
      "weighted avg       1.00      1.00      1.00     56746\n",
      "\n",
      "AUC-ROC: 0.8663842605666949\n"
     ]
    }
   ],
   "source": [
    "# Decision Tree\n",
    "decision_tree_model = DecisionTreeClassifier()\n",
    "train_evaluate_log_model(\"Decision Tree\", decision_tree_model, X_train_creditcard, y_train_creditcard, X_test_creditcard, y_test_creditcard)"
   ]
  },
  {
   "cell_type": "code",
   "execution_count": 11,
   "metadata": {},
   "outputs": [
    {
     "name": "stderr",
     "output_type": "stream",
     "text": [
      "2024/10/28 16:55:10 WARNING mlflow.models.model: Model logged without a signature and input example. Please set `input_example` parameter when logging the model to auto infer the model signature.\n"
     ]
    },
    {
     "name": "stdout",
     "output_type": "stream",
     "text": [
      "Model: Random Forest\n",
      "Accuracy: 0.9995241955380115\n",
      "              precision    recall  f1-score   support\n",
      "\n",
      "           0       1.00      1.00      1.00     56656\n",
      "           1       0.97      0.72      0.83        90\n",
      "\n",
      "    accuracy                           1.00     56746\n",
      "   macro avg       0.98      0.86      0.91     56746\n",
      "weighted avg       1.00      1.00      1.00     56746\n",
      "\n",
      "AUC-ROC: 0.93678035473344\n"
     ]
    }
   ],
   "source": [
    "# Random Forest\n",
    "random_forest_model = RandomForestClassifier()\n",
    "train_evaluate_log_model(\"Random Forest\", random_forest_model, X_train_creditcard, y_train_creditcard, X_test_creditcard, y_test_creditcard)"
   ]
  },
  {
   "cell_type": "code",
   "execution_count": 12,
   "metadata": {},
   "outputs": [
    {
     "name": "stderr",
     "output_type": "stream",
     "text": [
      "2024/10/28 17:12:33 WARNING mlflow.models.model: Model logged without a signature and input example. Please set `input_example` parameter when logging the model to auto infer the model signature.\n"
     ]
    },
    {
     "name": "stdout",
     "output_type": "stream",
     "text": [
      "Model: Gradient Boosting\n",
      "Accuracy: 0.9993127268882388\n",
      "              precision    recall  f1-score   support\n",
      "\n",
      "           0       1.00      1.00      1.00     56656\n",
      "           1       0.90      0.63      0.75        90\n",
      "\n",
      "    accuracy                           1.00     56746\n",
      "   macro avg       0.95      0.82      0.87     56746\n",
      "weighted avg       1.00      1.00      1.00     56746\n",
      "\n",
      "AUC-ROC: 0.7665101666195988\n"
     ]
    }
   ],
   "source": [
    "# Gradient Boosting\n",
    "gradient_boosting_model = GradientBoostingClassifier()\n",
    "train_evaluate_log_model(\"Gradient Boosting\", gradient_boosting_model, X_train_creditcard, y_train_creditcard, X_test_creditcard, y_test_creditcard)"
   ]
  },
  {
   "cell_type": "code",
   "execution_count": 13,
   "metadata": {},
   "outputs": [
    {
     "name": "stderr",
     "output_type": "stream",
     "text": [
      "2024/10/28 17:15:24 WARNING mlflow.models.model: Model logged without a signature and input example. Please set `input_example` parameter when logging the model to auto infer the model signature.\n"
     ]
    },
    {
     "name": "stdout",
     "output_type": "stream",
     "text": [
      "Model: MLP\n",
      "Accuracy: 0.9924576181581081\n",
      "              precision    recall  f1-score   support\n",
      "\n",
      "           0       1.00      0.99      1.00     56656\n",
      "           1       0.15      0.81      0.25        90\n",
      "\n",
      "    accuracy                           0.99     56746\n",
      "   macro avg       0.58      0.90      0.63     56746\n",
      "weighted avg       1.00      0.99      1.00     56746\n",
      "\n",
      "AUC-ROC: 0.917578799146506\n"
     ]
    }
   ],
   "source": [
    "# MLP Classifier\n",
    "mlp_model = MLPClassifier(max_iter=1000)\n",
    "train_evaluate_log_model(\"MLP\", mlp_model, X_train_creditcard, y_train_creditcard, X_test_creditcard, y_test_creditcard)\n"
   ]
  },
  {
   "cell_type": "code",
   "execution_count": 44,
   "metadata": {},
   "outputs": [],
   "source": [
    "# Define function for training, evaluating, and logging for fraud dataset\n",
    "def train_evaluate_log_model_fraud(model_name, model, X_train, y_train, X_test, y_test):\n",
    "    with mlflow.start_run(run_name=f\"{model_name}_fraud\"):\n",
    "        # Train model\n",
    "        model.fit(X_train, y_train)\n",
    "        \n",
    "        # Make predictions\n",
    "        y_pred = model.predict(X_test)\n",
    "        y_prob = model.predict_proba(X_test)[:, 1] if hasattr(model, \"predict_proba\") else None\n",
    "        \n",
    "        # Evaluation metrics\n",
    "        accuracy = accuracy_score(y_test, y_pred)\n",
    "        report = classification_report(y_test, y_pred)\n",
    "        auc_roc = roc_auc_score(y_test, y_prob) if y_prob is not None else None\n",
    "        \n",
    "        # Logging parameters and metrics\n",
    "        mlflow.log_param(\"model_type\", model_name)\n",
    "        mlflow.log_metric(\"accuracy\", accuracy)\n",
    "        if auc_roc is not None:\n",
    "            mlflow.log_metric(\"AUC_ROC\", auc_roc)\n",
    "        \n",
    "        # Logging the model\n",
    "        mlflow.sklearn.log_model(model, f\"{model_name}_fraud\")\n",
    "        \n",
    "        # Print results\n",
    "        print(f\"Model: {model_name} (Fraud Data)\")\n",
    "        print(f\"Accuracy: {accuracy}\")\n",
    "        print(report)\n",
    "        print(f\"AUC-ROC: {auc_roc if auc_roc else 'Not applicable'}\")"
   ]
  },
  {
   "cell_type": "code",
   "execution_count": 45,
   "metadata": {},
   "outputs": [
    {
     "name": "stderr",
     "output_type": "stream",
     "text": [
      "/home/olani/Documents/kifiya/week8&9/fraud_detection/.venv/lib/python3.12/site-packages/sklearn/metrics/_classification.py:1531: UndefinedMetricWarning: Precision is ill-defined and being set to 0.0 in labels with no predicted samples. Use `zero_division` parameter to control this behavior.\n",
      "  _warn_prf(average, modifier, f\"{metric.capitalize()} is\", len(result))\n",
      "/home/olani/Documents/kifiya/week8&9/fraud_detection/.venv/lib/python3.12/site-packages/sklearn/metrics/_classification.py:1531: UndefinedMetricWarning: Precision is ill-defined and being set to 0.0 in labels with no predicted samples. Use `zero_division` parameter to control this behavior.\n",
      "  _warn_prf(average, modifier, f\"{metric.capitalize()} is\", len(result))\n",
      "/home/olani/Documents/kifiya/week8&9/fraud_detection/.venv/lib/python3.12/site-packages/sklearn/metrics/_classification.py:1531: UndefinedMetricWarning: Precision is ill-defined and being set to 0.0 in labels with no predicted samples. Use `zero_division` parameter to control this behavior.\n",
      "  _warn_prf(average, modifier, f\"{metric.capitalize()} is\", len(result))\n",
      "2024/10/28 17:51:19 WARNING mlflow.models.model: Model logged without a signature and input example. Please set `input_example` parameter when logging the model to auto infer the model signature.\n"
     ]
    },
    {
     "name": "stdout",
     "output_type": "stream",
     "text": [
      "Model: Logistic Regression (Fraud Data)\n",
      "Accuracy: 0.9069686411149825\n",
      "              precision    recall  f1-score   support\n",
      "\n",
      "           0       0.91      1.00      0.95     23427\n",
      "           1       0.00      0.00      0.00      2403\n",
      "\n",
      "    accuracy                           0.91     25830\n",
      "   macro avg       0.45      0.50      0.48     25830\n",
      "weighted avg       0.82      0.91      0.86     25830\n",
      "\n",
      "AUC-ROC: 0.7428552594142285\n"
     ]
    }
   ],
   "source": [
    "# Logistic Regression for Fraud Data\n",
    "logistic_regression_model_fraud = LogisticRegression(max_iter=1000)\n",
    "train_evaluate_log_model_fraud(\"Logistic Regression\", logistic_regression_model_fraud, X_train_fraud, y_train_fraud, X_test_fraud, y_test_fraud)"
   ]
  },
  {
   "cell_type": "code",
   "execution_count": 46,
   "metadata": {},
   "outputs": [
    {
     "name": "stderr",
     "output_type": "stream",
     "text": [
      "2024/10/28 17:51:39 WARNING mlflow.models.model: Model logged without a signature and input example. Please set `input_example` parameter when logging the model to auto infer the model signature.\n"
     ]
    },
    {
     "name": "stdout",
     "output_type": "stream",
     "text": [
      "Model: Decision Tree (Fraud Data)\n",
      "Accuracy: 0.9127371273712737\n",
      "              precision    recall  f1-score   support\n",
      "\n",
      "           0       0.95      0.95      0.95     23427\n",
      "           1       0.53      0.56      0.55      2403\n",
      "\n",
      "    accuracy                           0.91     25830\n",
      "   macro avg       0.74      0.76      0.75     25830\n",
      "weighted avg       0.92      0.91      0.91     25830\n",
      "\n",
      "AUC-ROC: 0.7560129809565421\n"
     ]
    }
   ],
   "source": [
    "# Decision Tree for Fraud Data\n",
    "decision_tree_model_fraud = DecisionTreeClassifier()\n",
    "train_evaluate_log_model_fraud(\"Decision Tree\", decision_tree_model_fraud, X_train_fraud, y_train_fraud, X_test_fraud, y_test_fraud)\n"
   ]
  },
  {
   "cell_type": "code",
   "execution_count": 47,
   "metadata": {},
   "outputs": [
    {
     "name": "stderr",
     "output_type": "stream",
     "text": [
      "2024/10/28 17:52:49 WARNING mlflow.models.model: Model logged without a signature and input example. Please set `input_example` parameter when logging the model to auto infer the model signature.\n"
     ]
    },
    {
     "name": "stdout",
     "output_type": "stream",
     "text": [
      "Model: Random Forest (Fraud Data)\n",
      "Accuracy: 0.956833139759969\n",
      "              precision    recall  f1-score   support\n",
      "\n",
      "           0       0.95      1.00      0.98     23427\n",
      "           1       1.00      0.54      0.70      2403\n",
      "\n",
      "    accuracy                           0.96     25830\n",
      "   macro avg       0.98      0.77      0.84     25830\n",
      "weighted avg       0.96      0.96      0.95     25830\n",
      "\n",
      "AUC-ROC: 0.7716094058022582\n"
     ]
    }
   ],
   "source": [
    "# Random Forest for Fraud Data\n",
    "random_forest_model_fraud = RandomForestClassifier()\n",
    "train_evaluate_log_model_fraud(\"Random Forest\", random_forest_model_fraud, X_train_fraud, y_train_fraud, X_test_fraud, y_test_fraud)\n"
   ]
  },
  {
   "cell_type": "code",
   "execution_count": 48,
   "metadata": {},
   "outputs": [
    {
     "name": "stderr",
     "output_type": "stream",
     "text": [
      "2024/10/28 18:00:57 WARNING mlflow.models.model: Model logged without a signature and input example. Please set `input_example` parameter when logging the model to auto infer the model signature.\n"
     ]
    },
    {
     "name": "stdout",
     "output_type": "stream",
     "text": [
      "Model: Gradient Boosting (Fraud Data)\n",
      "Accuracy: 0.956833139759969\n",
      "              precision    recall  f1-score   support\n",
      "\n",
      "           0       0.95      1.00      0.98     23427\n",
      "           1       1.00      0.54      0.70      2403\n",
      "\n",
      "    accuracy                           0.96     25830\n",
      "   macro avg       0.98      0.77      0.84     25830\n",
      "weighted avg       0.96      0.96      0.95     25830\n",
      "\n",
      "AUC-ROC: 0.7797759452553235\n"
     ]
    }
   ],
   "source": [
    "# Gradient Boosting for Fraud Data\n",
    "gradient_boosting_model_fraud = GradientBoostingClassifier()\n",
    "train_evaluate_log_model_fraud(\"Gradient Boosting\", gradient_boosting_model_fraud, X_train_fraud, y_train_fraud, X_test_fraud, y_test_fraud)\n"
   ]
  },
  {
   "cell_type": "code",
   "execution_count": 49,
   "metadata": {},
   "outputs": [
    {
     "name": "stderr",
     "output_type": "stream",
     "text": [
      "2024/10/28 18:03:57 WARNING mlflow.models.model: Model logged without a signature and input example. Please set `input_example` parameter when logging the model to auto infer the model signature.\n"
     ]
    },
    {
     "name": "stdout",
     "output_type": "stream",
     "text": [
      "Model: MLP (Fraud Data)\n",
      "Accuracy: 0.9072396438250097\n",
      "              precision    recall  f1-score   support\n",
      "\n",
      "           0       0.91      1.00      0.95     23427\n",
      "           1       0.89      0.00      0.01      2403\n",
      "\n",
      "    accuracy                           0.91     25830\n",
      "   macro avg       0.90      0.50      0.48     25830\n",
      "weighted avg       0.91      0.91      0.86     25830\n",
      "\n",
      "AUC-ROC: 0.5016432430392986\n"
     ]
    }
   ],
   "source": [
    "# MLP Classifier for Fraud Data\n",
    "mlp_model_fraud = MLPClassifier(max_iter=1000)\n",
    "train_evaluate_log_model_fraud(\"MLP\", mlp_model_fraud, X_train_fraud, y_train_fraud, X_test_fraud, y_test_fraud)\n"
   ]
  },
  {
   "cell_type": "code",
   "execution_count": 50,
   "metadata": {},
   "outputs": [
    {
     "name": "stderr",
     "output_type": "stream",
     "text": [
      "2024-10-28 18:05:13.704989: I external/local_xla/xla/tsl/cuda/cudart_stub.cc:32] Could not find cuda drivers on your machine, GPU will not be used.\n",
      "2024-10-28 18:05:15.118944: I external/local_xla/xla/tsl/cuda/cudart_stub.cc:32] Could not find cuda drivers on your machine, GPU will not be used.\n",
      "2024-10-28 18:05:15.888452: E external/local_xla/xla/stream_executor/cuda/cuda_fft.cc:477] Unable to register cuFFT factory: Attempting to register factory for plugin cuFFT when one has already been registered\n",
      "WARNING: All log messages before absl::InitializeLog() is called are written to STDERR\n",
      "E0000 00:00:1730127916.737943   17234 cuda_dnn.cc:8310] Unable to register cuDNN factory: Attempting to register factory for plugin cuDNN when one has already been registered\n",
      "E0000 00:00:1730127916.895974   17234 cuda_blas.cc:1418] Unable to register cuBLAS factory: Attempting to register factory for plugin cuBLAS when one has already been registered\n",
      "2024-10-28 18:05:18.504619: I tensorflow/core/platform/cpu_feature_guard.cc:210] This TensorFlow binary is optimized to use available CPU instructions in performance-critical operations.\n",
      "To enable the following instructions: AVX2 FMA, in other operations, rebuild TensorFlow with the appropriate compiler flags.\n"
     ]
    }
   ],
   "source": [
    "import tensorflow as tf\n",
    "from tensorflow.keras.models import Sequential\n",
    "from tensorflow.keras.layers import Dense, Conv1D, MaxPooling1D, Flatten, LSTM, SimpleRNN, Dropout\n",
    "from sklearn.preprocessing import StandardScaler\n",
    "import mlflow.tensorflow"
   ]
  },
  {
   "cell_type": "code",
   "execution_count": 51,
   "metadata": {},
   "outputs": [],
   "source": [
    "# Normalize data for neural networks\n",
    "scaler = StandardScaler()\n",
    "X_train_scaled_creditcard = scaler.fit_transform(X_train_creditcard)\n",
    "X_test_scaled_creditcard = scaler.transform(X_test_creditcard)"
   ]
  },
  {
   "cell_type": "code",
   "execution_count": 52,
   "metadata": {},
   "outputs": [],
   "source": [
    "X_train_scaled_fraud = scaler.fit_transform(X_train_fraud)\n",
    "X_test_scaled_fraud = scaler.transform(X_test_fraud)\n"
   ]
  },
  {
   "cell_type": "code",
   "execution_count": 53,
   "metadata": {},
   "outputs": [],
   "source": [
    "# Reshape for CNN/RNN/LSTM input (if needed)\n",
    "X_train_cnn = np.expand_dims(X_train_scaled_creditcard, axis=2)\n",
    "X_test_cnn = np.expand_dims(X_test_scaled_creditcard, axis=2)\n"
   ]
  },
  {
   "cell_type": "code",
   "execution_count": 54,
   "metadata": {},
   "outputs": [],
   "source": [
    "X_train_cnn_fraud = np.expand_dims(X_train_scaled_fraud, axis=2)\n",
    "X_test_cnn_fraud = np.expand_dims(X_test_scaled_fraud, axis=2)"
   ]
  },
  {
   "cell_type": "code",
   "execution_count": 55,
   "metadata": {},
   "outputs": [],
   "source": [
    "# Define CNN model\n",
    "def create_cnn_model(input_shape):\n",
    "    model = Sequential([\n",
    "        Conv1D(filters=64, kernel_size=3, activation='relu', input_shape=input_shape),\n",
    "        MaxPooling1D(pool_size=2),\n",
    "        Flatten(),\n",
    "        Dense(64, activation='relu'),\n",
    "        Dense(1, activation='sigmoid')\n",
    "    ])\n",
    "    model.compile(optimizer='adam', loss='binary_crossentropy', metrics=['accuracy'])\n",
    "    return model"
   ]
  },
  {
   "cell_type": "code",
   "execution_count": 56,
   "metadata": {},
   "outputs": [],
   "source": [
    "# Define RNN model\n",
    "def create_rnn_model(input_shape):\n",
    "    model = Sequential([\n",
    "        SimpleRNN(64, input_shape=input_shape, return_sequences=False),\n",
    "        Dense(64, activation='relu'),\n",
    "        Dense(1, activation='sigmoid')\n",
    "    ])\n",
    "    model.compile(optimizer='adam', loss='binary_crossentropy', metrics=['accuracy'])\n",
    "    return model"
   ]
  },
  {
   "cell_type": "code",
   "execution_count": 57,
   "metadata": {},
   "outputs": [],
   "source": [
    "# Define LSTM model\n",
    "def create_lstm_model(input_shape):\n",
    "    model = Sequential([\n",
    "        LSTM(64, input_shape=input_shape, return_sequences=False),\n",
    "        Dense(64, activation='relu'),\n",
    "        Dense(1, activation='sigmoid')\n",
    "    ])\n",
    "    model.compile(optimizer='adam', loss='binary_crossentropy', metrics=['accuracy'])\n",
    "    return model"
   ]
  },
  {
   "cell_type": "code",
   "execution_count": 58,
   "metadata": {},
   "outputs": [],
   "source": [
    "# Function to train and log deep learning models with MLflow\n",
    "def train_deep_learning_model(model, model_name, X_train, X_test, y_train, y_test):\n",
    "    with mlflow.start_run(run_name=model_name):\n",
    "        # Train the model\n",
    "        model.fit(X_train, y_train, epochs=10, batch_size=32, validation_split=0.2, verbose=1)\n",
    "        \n",
    "        # Evaluate the model\n",
    "        loss, accuracy = model.evaluate(X_test, y_test, verbose=1)\n",
    "        \n",
    "        # Log parameters and metrics\n",
    "        mlflow.log_param(\"model_type\", model_name)\n",
    "        mlflow.log_metric(\"accuracy\", accuracy)\n",
    "        mlflow.log_metric(\"loss\", loss)\n",
    "        \n",
    "        # Log the model to MLflow\n",
    "        mlflow.tensorflow.log_model(model, model_name)"
   ]
  },
  {
   "cell_type": "code",
   "execution_count": 59,
   "metadata": {},
   "outputs": [
    {
     "name": "stderr",
     "output_type": "stream",
     "text": [
      "/home/olani/Documents/kifiya/week8&9/fraud_detection/.venv/lib/python3.12/site-packages/keras/src/layers/convolutional/base_conv.py:107: UserWarning: Do not pass an `input_shape`/`input_dim` argument to a layer. When using Sequential models, prefer using an `Input(shape)` object as the first layer in the model instead.\n",
      "  super().__init__(activity_regularizer=activity_regularizer, **kwargs)\n",
      "W0000 00:00:1730128025.720887   17234 gpu_device.cc:2344] Cannot dlopen some GPU libraries. Please make sure the missing libraries mentioned above are installed properly if you would like to use GPU. Follow the guide at https://www.tensorflow.org/install/gpu for how to download and setup the required libraries for your platform.\n",
      "Skipping registering GPU devices...\n"
     ]
    },
    {
     "name": "stdout",
     "output_type": "stream",
     "text": [
      "Epoch 1/10\n",
      "\u001b[1m5675/5675\u001b[0m \u001b[32m━━━━━━━━━━━━━━━━━━━━\u001b[0m\u001b[37m\u001b[0m \u001b[1m30s\u001b[0m 5ms/step - accuracy: 0.9985 - loss: 0.0114 - val_accuracy: 0.9991 - val_loss: 0.0039\n",
      "Epoch 2/10\n",
      "\u001b[1m5675/5675\u001b[0m \u001b[32m━━━━━━━━━━━━━━━━━━━━\u001b[0m\u001b[37m\u001b[0m \u001b[1m29s\u001b[0m 5ms/step - accuracy: 0.9994 - loss: 0.0032 - val_accuracy: 0.9992 - val_loss: 0.0038\n",
      "Epoch 3/10\n",
      "\u001b[1m5675/5675\u001b[0m \u001b[32m━━━━━━━━━━━━━━━━━━━━\u001b[0m\u001b[37m\u001b[0m \u001b[1m27s\u001b[0m 5ms/step - accuracy: 0.9992 - loss: 0.0038 - val_accuracy: 0.9992 - val_loss: 0.0036\n",
      "Epoch 4/10\n",
      "\u001b[1m5675/5675\u001b[0m \u001b[32m━━━━━━━━━━━━━━━━━━━━\u001b[0m\u001b[37m\u001b[0m \u001b[1m31s\u001b[0m 5ms/step - accuracy: 0.9992 - loss: 0.0036 - val_accuracy: 0.9993 - val_loss: 0.0036\n",
      "Epoch 5/10\n",
      "\u001b[1m5675/5675\u001b[0m \u001b[32m━━━━━━━━━━━━━━━━━━━━\u001b[0m\u001b[37m\u001b[0m \u001b[1m26s\u001b[0m 5ms/step - accuracy: 0.9994 - loss: 0.0032 - val_accuracy: 0.9991 - val_loss: 0.0043\n",
      "Epoch 6/10\n",
      "\u001b[1m5675/5675\u001b[0m \u001b[32m━━━━━━━━━━━━━━━━━━━━\u001b[0m\u001b[37m\u001b[0m \u001b[1m30s\u001b[0m 5ms/step - accuracy: 0.9995 - loss: 0.0030 - val_accuracy: 0.9993 - val_loss: 0.0043\n",
      "Epoch 7/10\n",
      "\u001b[1m5675/5675\u001b[0m \u001b[32m━━━━━━━━━━━━━━━━━━━━\u001b[0m\u001b[37m\u001b[0m \u001b[1m41s\u001b[0m 7ms/step - accuracy: 0.9995 - loss: 0.0026 - val_accuracy: 0.9993 - val_loss: 0.0037\n",
      "Epoch 8/10\n",
      "\u001b[1m5675/5675\u001b[0m \u001b[32m━━━━━━━━━━━━━━━━━━━━\u001b[0m\u001b[37m\u001b[0m \u001b[1m40s\u001b[0m 7ms/step - accuracy: 0.9995 - loss: 0.0026 - val_accuracy: 0.9993 - val_loss: 0.0033\n",
      "Epoch 9/10\n",
      "\u001b[1m5675/5675\u001b[0m \u001b[32m━━━━━━━━━━━━━━━━━━━━\u001b[0m\u001b[37m\u001b[0m \u001b[1m41s\u001b[0m 7ms/step - accuracy: 0.9995 - loss: 0.0023 - val_accuracy: 0.9993 - val_loss: 0.0033\n",
      "Epoch 10/10\n",
      "\u001b[1m5675/5675\u001b[0m \u001b[32m━━━━━━━━━━━━━━━━━━━━\u001b[0m\u001b[37m\u001b[0m \u001b[1m41s\u001b[0m 7ms/step - accuracy: 0.9994 - loss: 0.0033 - val_accuracy: 0.9993 - val_loss: 0.0037\n",
      "\u001b[1m1774/1774\u001b[0m \u001b[32m━━━━━━━━━━━━━━━━━━━━\u001b[0m\u001b[37m\u001b[0m \u001b[1m7s\u001b[0m 4ms/step - accuracy: 0.9995 - loss: 0.0033\n"
     ]
    },
    {
     "name": "stderr",
     "output_type": "stream",
     "text": [
      "2024/10/28 18:12:55 WARNING mlflow.tensorflow: You are saving a TensorFlow Core model or Keras model without a signature. Inference with mlflow.pyfunc.spark_udf() will not work unless the model's pyfunc representation accepts pandas DataFrames as inference inputs.\n",
      "2024/10/28 18:13:46 WARNING mlflow.models.model: Model logged without a signature and input example. Please set `input_example` parameter when logging the model to auto infer the model signature.\n"
     ]
    }
   ],
   "source": [
    "# Training CNN model\n",
    "cnn_model = create_cnn_model(input_shape=(X_train_cnn.shape[1], X_train_cnn.shape[2]))\n",
    "train_deep_learning_model(cnn_model, \"CNN_CreditCard\", X_train_cnn, X_test_cnn, y_train_creditcard, y_test_creditcard)"
   ]
  },
  {
   "cell_type": "code",
   "execution_count": 60,
   "metadata": {},
   "outputs": [
    {
     "name": "stdout",
     "output_type": "stream",
     "text": [
      "Epoch 1/10\n"
     ]
    },
    {
     "name": "stderr",
     "output_type": "stream",
     "text": [
      "2024-10-28 18:14:47.430282: W external/local_xla/xla/tsl/framework/cpu_allocator_impl.cc:83] Allocation of 74056192 exceeds 10% of free system memory.\n"
     ]
    },
    {
     "name": "stdout",
     "output_type": "stream",
     "text": [
      "\u001b[1m2583/2583\u001b[0m \u001b[32m━━━━━━━━━━━━━━━━━━━━\u001b[0m\u001b[37m\u001b[0m \u001b[1m50s\u001b[0m 18ms/step - accuracy: 0.9025 - loss: 0.2833 - val_accuracy: 0.9318 - val_loss: 0.2520\n",
      "Epoch 2/10\n",
      "\u001b[1m2583/2583\u001b[0m \u001b[32m━━━━━━━━━━━━━━━━━━━━\u001b[0m\u001b[37m\u001b[0m \u001b[1m75s\u001b[0m 29ms/step - accuracy: 0.9275 - loss: 0.2357 - val_accuracy: 0.9460 - val_loss: 0.2229\n",
      "Epoch 3/10\n",
      "\u001b[1m2583/2583\u001b[0m \u001b[32m━━━━━━━━━━━━━━━━━━━━\u001b[0m\u001b[37m\u001b[0m \u001b[1m78s\u001b[0m 28ms/step - accuracy: 0.9453 - loss: 0.2165 - val_accuracy: 0.9406 - val_loss: 0.2215\n",
      "Epoch 4/10\n",
      "\u001b[1m2583/2583\u001b[0m \u001b[32m━━━━━━━━━━━━━━━━━━━━\u001b[0m\u001b[37m\u001b[0m \u001b[1m71s\u001b[0m 27ms/step - accuracy: 0.9473 - loss: 0.2100 - val_accuracy: 0.9503 - val_loss: 0.2052\n",
      "Epoch 5/10\n",
      "\u001b[1m2583/2583\u001b[0m \u001b[32m━━━━━━━━━━━━━━━━━━━━\u001b[0m\u001b[37m\u001b[0m \u001b[1m72s\u001b[0m 24ms/step - accuracy: 0.9491 - loss: 0.2019 - val_accuracy: 0.9450 - val_loss: 0.2020\n",
      "Epoch 6/10\n",
      "\u001b[1m2583/2583\u001b[0m \u001b[32m━━━━━━━━━━━━━━━━━━━━\u001b[0m\u001b[37m\u001b[0m \u001b[1m60s\u001b[0m 23ms/step - accuracy: 0.9496 - loss: 0.1966 - val_accuracy: 0.9507 - val_loss: 0.2011\n",
      "Epoch 7/10\n",
      "\u001b[1m2583/2583\u001b[0m \u001b[32m━━━━━━━━━━━━━━━━━━━━\u001b[0m\u001b[37m\u001b[0m \u001b[1m61s\u001b[0m 24ms/step - accuracy: 0.9514 - loss: 0.1908 - val_accuracy: 0.9457 - val_loss: 0.2001\n",
      "Epoch 8/10\n",
      "\u001b[1m2583/2583\u001b[0m \u001b[32m━━━━━━━━━━━━━━━━━━━━\u001b[0m\u001b[37m\u001b[0m \u001b[1m57s\u001b[0m 22ms/step - accuracy: 0.9487 - loss: 0.1992 - val_accuracy: 0.9474 - val_loss: 0.1984\n",
      "Epoch 9/10\n",
      "\u001b[1m2583/2583\u001b[0m \u001b[32m━━━━━━━━━━━━━━━━━━━━\u001b[0m\u001b[37m\u001b[0m \u001b[1m56s\u001b[0m 22ms/step - accuracy: 0.9502 - loss: 0.1964 - val_accuracy: 0.9453 - val_loss: 0.2037\n",
      "Epoch 10/10\n",
      "\u001b[1m2583/2583\u001b[0m \u001b[32m━━━━━━━━━━━━━━━━━━━━\u001b[0m\u001b[37m\u001b[0m \u001b[1m67s\u001b[0m 26ms/step - accuracy: 0.9489 - loss: 0.1997 - val_accuracy: 0.9495 - val_loss: 0.1944\n",
      "\u001b[1m808/808\u001b[0m \u001b[32m━━━━━━━━━━━━━━━━━━━━\u001b[0m\u001b[37m\u001b[0m \u001b[1m5s\u001b[0m 7ms/step - accuracy: 0.9509 - loss: 0.1909\n"
     ]
    },
    {
     "name": "stderr",
     "output_type": "stream",
     "text": [
      "2024/10/28 18:25:55 WARNING mlflow.tensorflow: You are saving a TensorFlow Core model or Keras model without a signature. Inference with mlflow.pyfunc.spark_udf() will not work unless the model's pyfunc representation accepts pandas DataFrames as inference inputs.\n",
      "2024/10/28 18:26:24 WARNING mlflow.models.model: Model logged without a signature and input example. Please set `input_example` parameter when logging the model to auto infer the model signature.\n"
     ]
    }
   ],
   "source": [
    "# CNN, RNN, and LSTM for Fraud Data\n",
    "cnn_model_fraud = create_cnn_model(input_shape=(X_train_cnn_fraud.shape[1], X_train_cnn_fraud.shape[2]))\n",
    "train_deep_learning_model(cnn_model_fraud, \"CNN_Fraud\", X_train_cnn_fraud, X_test_cnn_fraud, y_train_fraud, y_test_fraud)"
   ]
  },
  {
   "cell_type": "code",
   "execution_count": 61,
   "metadata": {},
   "outputs": [
    {
     "name": "stderr",
     "output_type": "stream",
     "text": [
      "/home/olani/Documents/kifiya/week8&9/fraud_detection/.venv/lib/python3.12/site-packages/keras/src/layers/rnn/rnn.py:204: UserWarning: Do not pass an `input_shape`/`input_dim` argument to a layer. When using Sequential models, prefer using an `Input(shape)` object as the first layer in the model instead.\n",
      "  super().__init__(**kwargs)\n"
     ]
    },
    {
     "name": "stdout",
     "output_type": "stream",
     "text": [
      "Epoch 1/10\n",
      "\u001b[1m5675/5675\u001b[0m \u001b[32m━━━━━━━━━━━━━━━━━━━━\u001b[0m\u001b[37m\u001b[0m \u001b[1m46s\u001b[0m 8ms/step - accuracy: 0.9917 - loss: 0.0255 - val_accuracy: 0.9988 - val_loss: 0.0058\n",
      "Epoch 2/10\n",
      "\u001b[1m5675/5675\u001b[0m \u001b[32m━━━━━━━━━━━━━━━━━━━━\u001b[0m\u001b[37m\u001b[0m \u001b[1m84s\u001b[0m 8ms/step - accuracy: 0.9990 - loss: 0.0059 - val_accuracy: 0.9981 - val_loss: 0.0077\n",
      "Epoch 3/10\n",
      "\u001b[1m5675/5675\u001b[0m \u001b[32m━━━━━━━━━━━━━━━━━━━━\u001b[0m\u001b[37m\u001b[0m \u001b[1m47s\u001b[0m 8ms/step - accuracy: 0.9987 - loss: 0.0062 - val_accuracy: 0.9986 - val_loss: 0.0069\n",
      "Epoch 4/10\n",
      "\u001b[1m5675/5675\u001b[0m \u001b[32m━━━━━━━━━━━━━━━━━━━━\u001b[0m\u001b[37m\u001b[0m \u001b[1m101s\u001b[0m 12ms/step - accuracy: 0.9986 - loss: 0.0063 - val_accuracy: 0.9986 - val_loss: 0.0060\n",
      "Epoch 5/10\n",
      "\u001b[1m5675/5675\u001b[0m \u001b[32m━━━━━━━━━━━━━━━━━━━━\u001b[0m\u001b[37m\u001b[0m \u001b[1m48s\u001b[0m 8ms/step - accuracy: 0.9988 - loss: 0.0063 - val_accuracy: 0.9985 - val_loss: 0.0064\n",
      "Epoch 6/10\n",
      "\u001b[1m5675/5675\u001b[0m \u001b[32m━━━━━━━━━━━━━━━━━━━━\u001b[0m\u001b[37m\u001b[0m \u001b[1m46s\u001b[0m 8ms/step - accuracy: 0.9991 - loss: 0.0045 - val_accuracy: 0.9987 - val_loss: 0.0057\n",
      "Epoch 7/10\n",
      "\u001b[1m5675/5675\u001b[0m \u001b[32m━━━━━━━━━━━━━━━━━━━━\u001b[0m\u001b[37m\u001b[0m \u001b[1m82s\u001b[0m 8ms/step - accuracy: 0.9990 - loss: 0.0045 - val_accuracy: 0.9989 - val_loss: 0.0049\n",
      "Epoch 8/10\n",
      "\u001b[1m5675/5675\u001b[0m \u001b[32m━━━━━━━━━━━━━━━━━━━━\u001b[0m\u001b[37m\u001b[0m \u001b[1m46s\u001b[0m 8ms/step - accuracy: 0.9983 - loss: 0.0082 - val_accuracy: 0.9987 - val_loss: 0.0089\n",
      "Epoch 9/10\n",
      "\u001b[1m5675/5675\u001b[0m \u001b[32m━━━━━━━━━━━━━━━━━━━━\u001b[0m\u001b[37m\u001b[0m \u001b[1m48s\u001b[0m 8ms/step - accuracy: 0.9990 - loss: 0.0070 - val_accuracy: 0.9988 - val_loss: 0.0088\n",
      "Epoch 10/10\n",
      "\u001b[1m5675/5675\u001b[0m \u001b[32m━━━━━━━━━━━━━━━━━━━━\u001b[0m\u001b[37m\u001b[0m \u001b[1m48s\u001b[0m 8ms/step - accuracy: 0.9989 - loss: 0.0063 - val_accuracy: 0.9983 - val_loss: 0.0085\n",
      "\u001b[1m1774/1774\u001b[0m \u001b[32m━━━━━━━━━━━━━━━━━━━━\u001b[0m\u001b[37m\u001b[0m \u001b[1m5s\u001b[0m 3ms/step - accuracy: 0.9988 - loss: 0.0075\n"
     ]
    },
    {
     "name": "stderr",
     "output_type": "stream",
     "text": [
      "2024/10/28 18:38:08 WARNING mlflow.tensorflow: You are saving a TensorFlow Core model or Keras model without a signature. Inference with mlflow.pyfunc.spark_udf() will not work unless the model's pyfunc representation accepts pandas DataFrames as inference inputs.\n",
      "2024/10/28 18:38:23 WARNING mlflow.models.model: Model logged without a signature and input example. Please set `input_example` parameter when logging the model to auto infer the model signature.\n"
     ]
    }
   ],
   "source": [
    "# Training RNN model\n",
    "rnn_model = create_rnn_model(input_shape=(X_train_cnn.shape[1], X_train_cnn.shape[2]))\n",
    "train_deep_learning_model(rnn_model, \"RNN_CreditCard\", X_train_cnn, X_test_cnn, y_train_creditcard, y_test_creditcard)"
   ]
  },
  {
   "cell_type": "code",
   "execution_count": 62,
   "metadata": {},
   "outputs": [
    {
     "name": "stdout",
     "output_type": "stream",
     "text": [
      "Epoch 1/10\n"
     ]
    },
    {
     "name": "stderr",
     "output_type": "stream",
     "text": [
      "2024-10-28 19:59:18.275747: W external/local_xla/xla/tsl/framework/cpu_allocator_impl.cc:83] Allocation of 74056192 exceeds 10% of free system memory.\n"
     ]
    },
    {
     "name": "stdout",
     "output_type": "stream",
     "text": [
      "\u001b[1m2583/2583\u001b[0m \u001b[32m━━━━━━━━━━━━━━━━━━━━\u001b[0m\u001b[37m\u001b[0m \u001b[1m133s\u001b[0m 50ms/step - accuracy: 0.8995 - loss: 0.3253 - val_accuracy: 0.9034 - val_loss: 0.3175\n",
      "Epoch 2/10\n",
      "\u001b[1m2583/2583\u001b[0m \u001b[32m━━━━━━━━━━━━━━━━━━━━\u001b[0m\u001b[37m\u001b[0m \u001b[1m140s\u001b[0m 50ms/step - accuracy: 0.9058 - loss: 0.3129 - val_accuracy: 0.9034 - val_loss: 0.3207\n",
      "Epoch 3/10\n",
      "\u001b[1m2583/2583\u001b[0m \u001b[32m━━━━━━━━━━━━━━━━━━━━\u001b[0m\u001b[37m\u001b[0m \u001b[1m119s\u001b[0m 46ms/step - accuracy: 0.9040 - loss: 0.3184 - val_accuracy: 0.9034 - val_loss: 0.3184\n",
      "Epoch 4/10\n",
      "\u001b[1m2583/2583\u001b[0m \u001b[32m━━━━━━━━━━━━━━━━━━━━\u001b[0m\u001b[37m\u001b[0m \u001b[1m128s\u001b[0m 50ms/step - accuracy: 0.9042 - loss: 0.3186 - val_accuracy: 0.9034 - val_loss: 0.3212\n",
      "Epoch 5/10\n",
      "\u001b[1m2583/2583\u001b[0m \u001b[32m━━━━━━━━━━━━━━━━━━━━\u001b[0m\u001b[37m\u001b[0m \u001b[1m152s\u001b[0m 59ms/step - accuracy: 0.9038 - loss: 0.3181 - val_accuracy: 0.9034 - val_loss: 0.3204\n",
      "Epoch 6/10\n",
      "\u001b[1m2583/2583\u001b[0m \u001b[32m━━━━━━━━━━━━━━━━━━━━\u001b[0m\u001b[37m\u001b[0m \u001b[1m135s\u001b[0m 52ms/step - accuracy: 0.9044 - loss: 0.3165 - val_accuracy: 0.9034 - val_loss: 0.3184\n",
      "Epoch 7/10\n",
      "\u001b[1m2583/2583\u001b[0m \u001b[32m━━━━━━━━━━━━━━━━━━━━\u001b[0m\u001b[37m\u001b[0m \u001b[1m142s\u001b[0m 55ms/step - accuracy: 0.9052 - loss: 0.3146 - val_accuracy: 0.9034 - val_loss: 0.3178\n",
      "Epoch 8/10\n",
      "\u001b[1m2583/2583\u001b[0m \u001b[32m━━━━━━━━━━━━━━━━━━━━\u001b[0m\u001b[37m\u001b[0m \u001b[1m191s\u001b[0m 51ms/step - accuracy: 0.9023 - loss: 0.3212 - val_accuracy: 0.9034 - val_loss: 0.3183\n",
      "Epoch 9/10\n",
      "\u001b[1m2583/2583\u001b[0m \u001b[32m━━━━━━━━━━━━━━━━━━━━\u001b[0m\u001b[37m\u001b[0m \u001b[1m149s\u001b[0m 53ms/step - accuracy: 0.9028 - loss: 0.3197 - val_accuracy: 0.9034 - val_loss: 0.3174\n",
      "Epoch 10/10\n",
      "\u001b[1m2583/2583\u001b[0m \u001b[32m━━━━━━━━━━━━━━━━━━━━\u001b[0m\u001b[37m\u001b[0m \u001b[1m135s\u001b[0m 52ms/step - accuracy: 0.9053 - loss: 0.3140 - val_accuracy: 0.9034 - val_loss: 0.3192\n",
      "\u001b[1m808/808\u001b[0m \u001b[32m━━━━━━━━━━━━━━━━━━━━\u001b[0m\u001b[37m\u001b[0m \u001b[1m13s\u001b[0m 16ms/step - accuracy: 0.9071 - loss: 0.3125\n"
     ]
    },
    {
     "name": "stderr",
     "output_type": "stream",
     "text": [
      "2024/10/28 20:23:23 WARNING mlflow.tensorflow: You are saving a TensorFlow Core model or Keras model without a signature. Inference with mlflow.pyfunc.spark_udf() will not work unless the model's pyfunc representation accepts pandas DataFrames as inference inputs.\n",
      "2024/10/28 20:24:34 WARNING mlflow.models.model: Model logged without a signature and input example. Please set `input_example` parameter when logging the model to auto infer the model signature.\n"
     ]
    }
   ],
   "source": [
    "rnn_model_fraud = create_rnn_model(input_shape=(X_train_cnn_fraud.shape[1], X_train_cnn_fraud.shape[2]))\n",
    "train_deep_learning_model(rnn_model_fraud, \"RNN_Fraud\", X_train_cnn_fraud, X_test_cnn_fraud, y_train_fraud, y_test_fraud)\n"
   ]
  },
  {
   "cell_type": "code",
   "execution_count": 63,
   "metadata": {},
   "outputs": [
    {
     "name": "stdout",
     "output_type": "stream",
     "text": [
      "Epoch 1/10\n",
      "\u001b[1m5675/5675\u001b[0m \u001b[32m━━━━━━━━━━━━━━━━━━━━\u001b[0m\u001b[37m\u001b[0m \u001b[1m117s\u001b[0m 16ms/step - accuracy: 0.9981 - loss: 0.0219 - val_accuracy: 0.9984 - val_loss: 0.0071\n",
      "Epoch 2/10\n",
      "\u001b[1m5675/5675\u001b[0m \u001b[32m━━━━━━━━━━━━━━━━━━━━\u001b[0m\u001b[37m\u001b[0m \u001b[1m90s\u001b[0m 16ms/step - accuracy: 0.9992 - loss: 0.0039 - val_accuracy: 0.9992 - val_loss: 0.0047\n",
      "Epoch 3/10\n",
      "\u001b[1m5675/5675\u001b[0m \u001b[32m━━━━━━━━━━━━━━━━━━━━\u001b[0m\u001b[37m\u001b[0m \u001b[1m93s\u001b[0m 16ms/step - accuracy: 0.9993 - loss: 0.0043 - val_accuracy: 0.9992 - val_loss: 0.0048\n",
      "Epoch 4/10\n",
      "\u001b[1m5675/5675\u001b[0m \u001b[32m━━━━━━━━━━━━━━━━━━━━\u001b[0m\u001b[37m\u001b[0m \u001b[1m89s\u001b[0m 16ms/step - accuracy: 0.9994 - loss: 0.0038 - val_accuracy: 0.9992 - val_loss: 0.0040\n",
      "Epoch 5/10\n",
      "\u001b[1m5675/5675\u001b[0m \u001b[32m━━━━━━━━━━━━━━━━━━━━\u001b[0m\u001b[37m\u001b[0m \u001b[1m89s\u001b[0m 16ms/step - accuracy: 0.9992 - loss: 0.0042 - val_accuracy: 0.9992 - val_loss: 0.0039\n",
      "Epoch 6/10\n",
      "\u001b[1m5675/5675\u001b[0m \u001b[32m━━━━━━━━━━━━━━━━━━━━\u001b[0m\u001b[37m\u001b[0m \u001b[1m146s\u001b[0m 17ms/step - accuracy: 0.9994 - loss: 0.0036 - val_accuracy: 0.9992 - val_loss: 0.0037\n",
      "Epoch 7/10\n",
      "\u001b[1m5675/5675\u001b[0m \u001b[32m━━━━━━━━━━━━━━━━━━━━\u001b[0m\u001b[37m\u001b[0m \u001b[1m96s\u001b[0m 17ms/step - accuracy: 0.9994 - loss: 0.0032 - val_accuracy: 0.9992 - val_loss: 0.0038\n",
      "Epoch 8/10\n",
      "\u001b[1m5675/5675\u001b[0m \u001b[32m━━━━━━━━━━━━━━━━━━━━\u001b[0m\u001b[37m\u001b[0m \u001b[1m99s\u001b[0m 17ms/step - accuracy: 0.9994 - loss: 0.0034 - val_accuracy: 0.9991 - val_loss: 0.0039\n",
      "Epoch 9/10\n",
      "\u001b[1m5675/5675\u001b[0m \u001b[32m━━━━━━━━━━━━━━━━━━━━\u001b[0m\u001b[37m\u001b[0m \u001b[1m136s\u001b[0m 16ms/step - accuracy: 0.9994 - loss: 0.0027 - val_accuracy: 0.9992 - val_loss: 0.0038\n",
      "Epoch 10/10\n",
      "\u001b[1m5675/5675\u001b[0m \u001b[32m━━━━━━━━━━━━━━━━━━━━\u001b[0m\u001b[37m\u001b[0m \u001b[1m94s\u001b[0m 16ms/step - accuracy: 0.9995 - loss: 0.0026 - val_accuracy: 0.9993 - val_loss: 0.0041\n",
      "\u001b[1m1774/1774\u001b[0m \u001b[32m━━━━━━━━━━━━━━━━━━━━\u001b[0m\u001b[37m\u001b[0m \u001b[1m11s\u001b[0m 6ms/step - accuracy: 0.9993 - loss: 0.0039\n"
     ]
    },
    {
     "name": "stderr",
     "output_type": "stream",
     "text": [
      "2024/10/28 20:47:06 WARNING mlflow.tensorflow: You are saving a TensorFlow Core model or Keras model without a signature. Inference with mlflow.pyfunc.spark_udf() will not work unless the model's pyfunc representation accepts pandas DataFrames as inference inputs.\n",
      "2024/10/28 20:48:07 WARNING mlflow.models.model: Model logged without a signature and input example. Please set `input_example` parameter when logging the model to auto infer the model signature.\n"
     ]
    }
   ],
   "source": [
    "# Training LSTM model\n",
    "lstm_model = create_lstm_model(input_shape=(X_train_cnn.shape[1], X_train_cnn.shape[2]))\n",
    "train_deep_learning_model(lstm_model, \"LSTM_CreditCard\", X_train_cnn, X_test_cnn, y_train_creditcard, y_test_creditcard)"
   ]
  },
  {
   "cell_type": "code",
   "execution_count": 64,
   "metadata": {},
   "outputs": [
    {
     "name": "stderr",
     "output_type": "stream",
     "text": [
      "2024-10-28 21:01:45.919498: W external/local_xla/xla/tsl/framework/cpu_allocator_impl.cc:83] Allocation of 74056192 exceeds 10% of free system memory.\n"
     ]
    },
    {
     "name": "stdout",
     "output_type": "stream",
     "text": [
      "Epoch 1/10\n",
      "\u001b[1m2583/2583\u001b[0m \u001b[32m━━━━━━━━━━━━━━━━━━━━\u001b[0m\u001b[37m\u001b[0m \u001b[1m274s\u001b[0m 104ms/step - accuracy: 0.9060 - loss: 0.3248 - val_accuracy: 0.9034 - val_loss: 0.3181\n",
      "Epoch 2/10\n",
      "\u001b[1m2583/2583\u001b[0m \u001b[32m━━━━━━━━━━━━━━━━━━━━\u001b[0m\u001b[37m\u001b[0m \u001b[1m304s\u001b[0m 97ms/step - accuracy: 0.9024 - loss: 0.3201 - val_accuracy: 0.9034 - val_loss: 0.3180\n",
      "Epoch 3/10\n",
      "\u001b[1m2583/2583\u001b[0m \u001b[32m━━━━━━━━━━━━━━━━━━━━\u001b[0m\u001b[37m\u001b[0m \u001b[1m245s\u001b[0m 95ms/step - accuracy: 0.9046 - loss: 0.3156 - val_accuracy: 0.9034 - val_loss: 0.3175\n",
      "Epoch 4/10\n",
      "\u001b[1m2583/2583\u001b[0m \u001b[32m━━━━━━━━━━━━━━━━━━━━\u001b[0m\u001b[37m\u001b[0m \u001b[1m270s\u001b[0m 105ms/step - accuracy: 0.9056 - loss: 0.3132 - val_accuracy: 0.9034 - val_loss: 0.3189\n",
      "Epoch 5/10\n",
      "\u001b[1m2583/2583\u001b[0m \u001b[32m━━━━━━━━━━━━━━━━━━━━\u001b[0m\u001b[37m\u001b[0m \u001b[1m277s\u001b[0m 107ms/step - accuracy: 0.9023 - loss: 0.3206 - val_accuracy: 0.9034 - val_loss: 0.3180\n",
      "Epoch 6/10\n",
      "\u001b[1m2583/2583\u001b[0m \u001b[32m━━━━━━━━━━━━━━━━━━━━\u001b[0m\u001b[37m\u001b[0m \u001b[1m264s\u001b[0m 102ms/step - accuracy: 0.9050 - loss: 0.3143 - val_accuracy: 0.9034 - val_loss: 0.3175\n",
      "Epoch 7/10\n",
      "\u001b[1m2583/2583\u001b[0m \u001b[32m━━━━━━━━━━━━━━━━━━━━\u001b[0m\u001b[37m\u001b[0m \u001b[1m246s\u001b[0m 95ms/step - accuracy: 0.9050 - loss: 0.3144 - val_accuracy: 0.9034 - val_loss: 0.3178\n",
      "Epoch 8/10\n",
      "\u001b[1m2583/2583\u001b[0m \u001b[32m━━━━━━━━━━━━━━━━━━━━\u001b[0m\u001b[37m\u001b[0m \u001b[1m293s\u001b[0m 114ms/step - accuracy: 0.9061 - loss: 0.3119 - val_accuracy: 0.9034 - val_loss: 0.3179\n",
      "Epoch 9/10\n",
      "\u001b[1m2583/2583\u001b[0m \u001b[32m━━━━━━━━━━━━━━━━━━━━\u001b[0m\u001b[37m\u001b[0m \u001b[1m257s\u001b[0m 99ms/step - accuracy: 0.9053 - loss: 0.3138 - val_accuracy: 0.9034 - val_loss: 0.3186\n",
      "Epoch 10/10\n",
      "\u001b[1m2583/2583\u001b[0m \u001b[32m━━━━━━━━━━━━━━━━━━━━\u001b[0m\u001b[37m\u001b[0m \u001b[1m228s\u001b[0m 88ms/step - accuracy: 0.9053 - loss: 0.3136 - val_accuracy: 0.9034 - val_loss: 0.3189\n",
      "\u001b[1m808/808\u001b[0m \u001b[32m━━━━━━━━━━━━━━━━━━━━\u001b[0m\u001b[37m\u001b[0m \u001b[1m24s\u001b[0m 29ms/step - accuracy: 0.9071 - loss: 0.3100\n"
     ]
    },
    {
     "name": "stderr",
     "output_type": "stream",
     "text": [
      "2024/10/28 21:46:46 WARNING mlflow.tensorflow: You are saving a TensorFlow Core model or Keras model without a signature. Inference with mlflow.pyfunc.spark_udf() will not work unless the model's pyfunc representation accepts pandas DataFrames as inference inputs.\n",
      "2024/10/28 21:48:48 WARNING mlflow.models.model: Model logged without a signature and input example. Please set `input_example` parameter when logging the model to auto infer the model signature.\n"
     ]
    }
   ],
   "source": [
    "lstm_model_fraud = create_lstm_model(input_shape=(X_train_cnn_fraud.shape[1], X_train_cnn_fraud.shape[2]))\n",
    "train_deep_learning_model(lstm_model_fraud, \"LSTM_Fraud\", X_train_cnn_fraud, X_test_cnn_fraud, y_train_fraud, y_test_fraud)"
   ]
  }
 ],
 "metadata": {
  "kernelspec": {
   "display_name": ".venv",
   "language": "python",
   "name": "python3"
  },
  "language_info": {
   "codemirror_mode": {
    "name": "ipython",
    "version": 3
   },
   "file_extension": ".py",
   "mimetype": "text/x-python",
   "name": "python",
   "nbconvert_exporter": "python",
   "pygments_lexer": "ipython3",
   "version": "3.12.7"
  }
 },
 "nbformat": 4,
 "nbformat_minor": 2
}
